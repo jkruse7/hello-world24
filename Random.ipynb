{
 "cells": [
  {
   "cell_type": "code",
   "execution_count": null,
   "id": "bac8874f-8f18-4090-b7ed-18fbcbb77d99",
   "metadata": {},
   "outputs": [],
   "source": [
    "import random\n",
    "import time\n",
    "\n",
    "def countdown(t):\n",
    "    while t:\n",
    "        mins, secs = divmod(t, 60)\n",
    "        timer = '{:02d}:{:02d}'.format(mins, secs)\n",
    "        print(timer, end=\"\\r\")\n",
    "        time.sleep(1)\n",
    "        t -= 1\n",
    "\n",
    "    print('Time is up!')\n",
    "\n",
    "# Get a random number between 1 and 10\n",
    "number = random.randint(1, 10)\n",
    "\n",
    "print(\"Welcome to the Number Guessing Game!\")\n",
    "print(\"I'm thinking of a number between 1 and 10.\")\n",
    "\n",
    "countdown(10)\n",
    "\n",
    "guess = int(input(\"Enter your guess: \"))\n",
    "\n",
    "if guess == number:\n",
    "    print(\"Congratulations! You guessed it!\")\n",
    "else:\n",
    "    print(\"Sorry, the number was\", number)"
   ]
  },
  {
   "cell_type": "code",
   "execution_count": null,
   "id": "7e047b3c-179a-4111-a989-70184fb49ab2",
   "metadata": {},
   "outputs": [],
   "source": []
  }
 ],
 "metadata": {
  "kernelspec": {
   "display_name": "Python 3 (ipykernel)",
   "language": "python",
   "name": "python3"
  },
  "language_info": {
   "codemirror_mode": {
    "name": "ipython",
    "version": 3
   },
   "file_extension": ".py",
   "mimetype": "text/x-python",
   "name": "python",
   "nbconvert_exporter": "python",
   "pygments_lexer": "ipython3",
   "version": "3.12.4"
  }
 },
 "nbformat": 4,
 "nbformat_minor": 5
}
